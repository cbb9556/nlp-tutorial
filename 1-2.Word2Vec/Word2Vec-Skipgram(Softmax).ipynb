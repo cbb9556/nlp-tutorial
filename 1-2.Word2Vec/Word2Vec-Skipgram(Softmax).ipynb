{
 "cells": [
  {
   "cell_type": "code",
   "execution_count": 9,
   "outputs": [
    {
     "name": "stdout",
     "output_type": "stream",
     "text": [
      "['apple', 'banana', 'fruit', 'banana', 'orange', 'fruit', 'orange', 'banana', 'fruit', 'dog', 'cat', 'animal', 'cat', 'monkey', 'animal', 'monkey', 'dog', 'animal']\n",
      "['animal', 'dog', 'monkey', 'fruit', 'banana', 'apple', 'cat', 'orange']\n",
      "0 animal\n",
      "1 dog\n",
      "2 monkey\n",
      "3 fruit\n",
      "4 banana\n",
      "5 apple\n",
      "6 cat\n",
      "7 orange\n",
      "{'animal': 0, 'dog': 1, 'monkey': 2, 'fruit': 3, 'banana': 4, 'apple': 5, 'cat': 6, 'orange': 7}\n",
      "[[4, 5], [4, 3], [3, 4], [3, 4], [4, 3], [4, 7], [7, 4], [7, 3], [3, 7], [3, 7], [7, 3], [7, 4], [4, 7], [4, 3], [3, 4], [3, 1], [1, 3], [1, 6], [6, 1], [6, 0], [0, 6], [0, 6], [6, 0], [6, 2], [2, 6], [2, 0], [0, 2], [0, 2], [2, 0], [2, 1], [1, 2], [1, 0]]\n"
     ]
    }
   ],
   "source": [
    "sentences = [\"apple banana fruit\", \"banana orange fruit\", \"orange banana fruit\",\n",
    "             \"dog cat animal\", \"cat monkey animal\", \"monkey dog animal\"]\n",
    "\n",
    "word_sequence = \" \".join(sentences).split()\n",
    "# print(word_sequence)\n",
    "word_list = \" \".join(sentences).split()\n",
    "print(word_list)\n",
    "word_list = list(set(word_list))\n",
    "print(word_list)\n",
    "for i, label in enumerate(word_list):\n",
    "    print(i, label)\n",
    "\n",
    "word_dict = {w: i for i, w in enumerate(word_list)}\n",
    "print(word_dict)\n",
    "voc_size = len(word_list)\n",
    "\n",
    "skip_grams = []\n",
    "for i in range(1, len(word_sequence) - 1):\n",
    "    target = word_dict[word_sequence[i]]\n",
    "    context = [word_dict[word_sequence[i - 1]], word_dict[word_sequence[i + 1]]]\n",
    "    for w in context:\n",
    "        skip_grams.append([target, w]) # 取上文 或者 下文，组装当前词，进行skip_grams\n",
    "print(skip_grams)"
   ],
   "metadata": {
    "collapsed": false,
    "ExecuteTime": {
     "end_time": "2024-09-09T18:28:01.155315800Z",
     "start_time": "2024-09-09T18:28:01.099466800Z"
    }
   }
  },
  {
   "cell_type": "code",
   "execution_count": 8,
   "outputs": [
    {
     "name": "stderr",
     "output_type": "stream",
     "text": [
      "C:\\Users\\Administrator\\AppData\\Local\\Temp\\ipykernel_18032\\2723197381.py:79: UserWarning: Creating a tensor from a list of numpy.ndarrays is extremely slow. Please consider converting the list to a single numpy.ndarray with numpy.array() before converting to a tensor. (Triggered internally at C:\\cb\\pytorch_1000000000000\\work\\torch\\csrc\\utils\\tensor_new.cpp:281.)\n",
      "  input_batch = torch.Tensor(input_batch)\n"
     ]
    },
    {
     "name": "stdout",
     "output_type": "stream",
     "text": [
      "Epoch: 1000 cost = 2.061465\n",
      "Epoch: 2000 cost = 1.768216\n",
      "Epoch: 3000 cost = 1.504099\n",
      "Epoch: 4000 cost = 1.253285\n",
      "Epoch: 5000 cost = 0.981670\n"
     ]
    },
    {
     "data": {
      "text/plain": "<Figure size 640x480 with 1 Axes>",
      "image/png": "[encoded data removed]"
     },
     "metadata": {},
     "output_type": "display_data"
    }
   ],
   "source": [
    "# code by Tae Hwan Jung @graykode\n",
    "import numpy as np\n",
    "import torch\n",
    "import torch.nn as nn\n",
    "import torch.optim as optim\n",
    "import matplotlib.pyplot as plt\n",
    "\n",
    "def random_batch():\n",
    "    \"\"\"\n",
    "    生成随机的训练批次。\n",
    "\n",
    "    该函数通过随机选择skip_grams中的索引来创建一个批次的数据。\n",
    "    它返回一个批次的输入和标签，用于训练模型。\n",
    "\n",
    "    Returns:\n",
    "        random_inputs: 一个包含随机选择的输入词的one-hot表示的列表。\n",
    "        random_labels: 一个包含随机选择的上下文词或标签的列表。\n",
    "    \"\"\"\n",
    "    # 初始化随机输入和标签列表\n",
    "    random_inputs = []\n",
    "    random_labels = []\n",
    "    # 随机选择batch_size个索引，这些索引用于从skip_grams中选取数据\n",
    "    random_index = np.random.choice(range(len(skip_grams)), batch_size, replace=False)\n",
    "\n",
    "    # 遍历随机选择的索引\n",
    "    for i in random_index:\n",
    "        # 将skip_grams中的目标词转换为one-hot表示，并添加到输入列表\n",
    "        # np.eye 是 NumPy 库中的一个函数，用于生成一个N维的方阵，对角线上的元素为1，其他位置的元素为0\n",
    "        random_inputs.append(np.eye(voc_size)[skip_grams[i][0]])\n",
    "        # 将skip_grams中的上下文词添加到标签列表\n",
    "        random_labels.append(skip_grams[i][1]) #第二维，是上下文，放到label\n",
    "\n",
    "    return random_inputs, random_labels\n",
    "\n",
    "# Model\n",
    "class Word2Vec(nn.Module):\n",
    "    def __init__(self):\n",
    "        super(Word2Vec, self).__init__()\n",
    "        # W and WT is not Traspose relationship\n",
    "        self.W = nn.Linear(voc_size, embedding_size, bias=False) # voc_size > embedding_size Weight\n",
    "        self.WT = nn.Linear(embedding_size, voc_size, bias=False) # embedding_size > voc_size Weight\n",
    "\n",
    "    def forward(self, X):\n",
    "        # X : [batch_size, voc_size]\n",
    "        hidden_layer = self.W(X) # hidden_layer : [batch_size, embedding_size]\n",
    "        output_layer = self.WT(hidden_layer) # output_layer : [batch_size, voc_size]\n",
    "        return output_layer\n",
    "\n",
    "if __name__ == '__main__':\n",
    "    batch_size = 2 # mini-batch size\n",
    "    embedding_size = 2 # embedding size\n",
    "\n",
    "    sentences = [\"apple banana fruit\", \"banana orange fruit\", \"orange banana fruit\",\n",
    "                 \"dog cat animal\", \"cat monkey animal\", \"monkey dog animal\"]\n",
    "\n",
    "    word_sequence = \" \".join(sentences).split()\n",
    "    word_list = \" \".join(sentences).split()\n",
    "    word_list = list(set(word_list))\n",
    "    word_dict = {w: i for i, w in enumerate(word_list)}\n",
    "    voc_size = len(word_list)\n",
    "\n",
    "    # Make skip gram of one size window\n",
    "    skip_grams = []\n",
    "    for i in range(1, len(word_sequence) - 1):\n",
    "        target = word_dict[word_sequence[i]]\n",
    "        context = [word_dict[word_sequence[i - 1]], word_dict[word_sequence[i + 1]]]\n",
    "        for w in context:\n",
    "            skip_grams.append([target, w])\n",
    "\n",
    "    model = Word2Vec()\n",
    "\n",
    "    #默认带softmax\n",
    "    criterion = nn.CrossEntropyLoss()\n",
    "    optimizer = optim.Adam(model.parameters(), lr=0.001)\n",
    "\n",
    "    # Training\n",
    "    for epoch in range(5000):\n",
    "        input_batch, target_batch = random_batch()\n",
    "        input_batch = torch.Tensor(input_batch)\n",
    "        target_batch = torch.LongTensor(target_batch)\n",
    "\n",
    "        optimizer.zero_grad()\n",
    "        output = model(input_batch)\n",
    "\n",
    "        # output : [batch_size, voc_size], target_batch : [batch_size] (LongTensor, not one-hot)\n",
    "        loss = criterion(output, target_batch)\n",
    "        if (epoch + 1) % 1000 == 0:\n",
    "            print('Epoch:', '%04d' % (epoch + 1), 'cost =', '{:.6f}'.format(loss))\n",
    "\n",
    "        loss.backward()\n",
    "        optimizer.step()\n",
    "\n",
    "    # inferenering\n",
    "    for i, label in enumerate(word_list):\n",
    "        W, WT = model.parameters()\n",
    "        x, y = W[0][i].item(), W[1][i].item()\n",
    "        plt.scatter(x, y)\n",
    "        plt.annotate(label, xy=(x, y), xytext=(5, 2), textcoords='offset points', ha='right', va='bottom')\n",
    "    plt.show()"
   ],
   "metadata": {
    "collapsed": false,
    "ExecuteTime": {
     "end_time": "2024-09-09T18:26:29.435853800Z",
     "start_time": "2024-09-09T18:26:12.954816900Z"
    }
   }
  }
 ],
 "metadata": {
  "anaconda-cloud": {},
  "kernelspec": {
   "display_name": "Python 3",
   "language": "python",
   "name": "python3"
  },
  "language_info": {
   "codemirror_mode": {
    "name": "ipython",
    "version": 3
   },
   "file_extension": ".py",
   "mimetype": "text/x-python",
   "name": "python",
   "nbconvert_exporter": "python",
   "pygments_lexer": "ipython3",
   "version": "3.6.1"
  }
 },
 "nbformat": 4,
 "nbformat_minor": 4
}
