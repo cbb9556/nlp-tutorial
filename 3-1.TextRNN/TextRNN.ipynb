{
 "cells": [
  {
   "cell_type": "code",
   "execution_count": 2,
   "outputs": [
    {
     "name": "stdout",
     "output_type": "stream",
     "text": [
      "{'coffee': 0, 'milk': 1, 'dog': 2, 'like': 3, 'love': 4, 'i': 5, 'hate': 6}\n",
      "[array([[0., 0., 0., 0., 0., 1., 0.],\n",
      "       [0., 0., 0., 1., 0., 0., 0.]]), array([[0., 0., 0., 0., 0., 1., 0.],\n",
      "       [0., 0., 0., 0., 1., 0., 0.]]), array([[0., 0., 0., 0., 0., 1., 0.],\n",
      "       [0., 0., 0., 0., 0., 0., 1.]])] [2, 0, 1]\n"
     ]
    }
   ],
   "source": [
    "import numpy as np\n",
    "\n",
    "sentences = [\"i like dog\", \"i love coffee\", \"i hate milk\"]\n",
    "\n",
    "word_list = \" \".join(sentences).split()\n",
    "word_list = list(set(word_list))\n",
    "\n",
    "word_dict = {w: i for i, w in enumerate(word_list)}\n",
    "print(word_dict)\n",
    "number_dict = {i: w for i, w in enumerate(word_list)}\n",
    "n_class = len(word_dict)\n",
    "\n",
    "def make_batch():\n",
    "    input_batch = []\n",
    "    target_batch = []\n",
    "\n",
    "    for sen in sentences:\n",
    "        word = sen.split()  # space tokenizer\n",
    "        input = [word_dict[n] for n in word[:-1]]  # create (1~n-1) as input\n",
    "        target = word_dict[word[-1]]  # create (n) as target, We usually call this 'casual language model'\n",
    "\n",
    "        input_batch.append(np.eye(n_class)[input])\n",
    "        target_batch.append(target)\n",
    "\n",
    "    return input_batch, target_batch\n",
    "\n",
    "input_batch, target_batch = make_batch()\n",
    "print(input_batch, target_batch)"
   ],
   "metadata": {
    "collapsed": false,
    "ExecuteTime": {
     "end_time": "2024-09-10T03:18:38.896774200Z",
     "start_time": "2024-09-10T03:18:38.669429800Z"
    }
   }
  },
  {
   "cell_type": "code",
   "execution_count": 2,
   "outputs": [
    {
     "name": "stderr",
     "output_type": "stream",
     "text": [
      "C:\\Users\\Administrator\\AppData\\Local\\Temp\\ipykernel_27480\\2483160401.py:56: UserWarning: Creating a tensor from a list of numpy.ndarrays is extremely slow. Please consider converting the list to a single numpy.ndarray with numpy.array() before converting to a tensor. (Triggered internally at C:\\cb\\pytorch_1000000000000\\work\\torch\\csrc\\utils\\tensor_new.cpp:281.)\n",
      "  input_batch = torch.FloatTensor(input_batch)\n"
     ]
    },
    {
     "name": "stdout",
     "output_type": "stream",
     "text": [
      "Epoch: 1000 cost = 0.131413\n",
      "Epoch: 2000 cost = 0.020973\n",
      "Epoch: 3000 cost = 0.007705\n",
      "Epoch: 4000 cost = 0.003668\n",
      "Epoch: 5000 cost = 0.001951\n",
      "[['i', 'like'], ['i', 'love'], ['i', 'hate']] -> ['dog', 'coffee', 'milk']\n",
      "Epoch: 1000 cost = 0.125465\n",
      "Epoch: 2000 cost = 0.024142\n",
      "Epoch: 3000 cost = 0.009703\n",
      "Epoch: 4000 cost = 0.004810\n",
      "Epoch: 5000 cost = 0.002616\n",
      "[['i', 'like'], ['i', 'love'], ['i', 'hate']] -> ['dog', 'coffee', 'milk']\n"
     ]
    }
   ],
   "source": [
    "# code by Tae Hwan Jung @graykode\n",
    "import numpy as np\n",
    "import torch\n",
    "import torch.nn as nn\n",
    "import torch.optim as optim\n",
    "\n",
    "def make_batch():\n",
    "    input_batch = []\n",
    "    target_batch = []\n",
    "\n",
    "    for sen in sentences:\n",
    "        word = sen.split()  # space tokenizer\n",
    "        input = [word_dict[n] for n in word[:-1]]  # create (1~n-1) as input\n",
    "        target = word_dict[word[-1]]  # create (n) as target, We usually call this 'casual language model'\n",
    "\n",
    "        input_batch.append(np.eye(n_class)[input])\n",
    "        target_batch.append(target)\n",
    "\n",
    "    return input_batch, target_batch\n",
    "\n",
    "class TextRNN(nn.Module):\n",
    "    def __init__(self):\n",
    "        super(TextRNN, self).__init__()\n",
    "        self.rnn = nn.RNN(input_size=n_class, hidden_size=n_hidden)\n",
    "        self.W = nn.Linear(n_hidden, n_class, bias=False)\n",
    "        self.b = nn.Parameter(torch.ones([n_class]))\n",
    "\n",
    "    def forward(self, hidden, X):\n",
    "        X = X.transpose(0, 1) # X : [n_step, batch_size, n_class]\n",
    "        outputs, hidden = self.rnn(X, hidden)\n",
    "        # outputs : [n_step, batch_size, num_directions(=1) * n_hidden]\n",
    "        # hidden : [num_layers(=1) * num_directions(=1), batch_size, n_hidden]\n",
    "        outputs = outputs[-1] # [batch_size, num_directions(=1) * n_hidden]\n",
    "        model = self.W(outputs) + self.b # model : [batch_size, n_class]\n",
    "        return model\n",
    "\n",
    "if __name__ == '__main__':\n",
    "    n_step = 2 # number of cells(= number of Step)\n",
    "    n_hidden = 5 # number of hidden units in one cell\n",
    "\n",
    "    sentences = [\"i like dog\", \"i love coffee\", \"i hate milk\"]\n",
    "\n",
    "    word_list = \" \".join(sentences).split()\n",
    "    word_list = list(set(word_list))\n",
    "    word_dict = {w: i for i, w in enumerate(word_list)}\n",
    "    number_dict = {i: w for i, w in enumerate(word_list)}\n",
    "    n_class = len(word_dict)\n",
    "    batch_size = len(sentences)\n",
    "\n",
    "    model = TextRNN()\n",
    "\n",
    "    criterion = nn.CrossEntropyLoss()\n",
    "    optimizer = optim.Adam(model.parameters(), lr=0.001)\n",
    "\n",
    "    input_batch, target_batch = make_batch()\n",
    "    input_batch = torch.FloatTensor(input_batch)\n",
    "    target_batch = torch.LongTensor(target_batch)\n",
    "\n",
    "    # Training\n",
    "    for epoch in range(5000):\n",
    "        optimizer.zero_grad()\n",
    "\n",
    "        # hidden : [num_layers * num_directions, batch, hidden_size]\n",
    "        hidden = torch.zeros(1, batch_size, n_hidden)\n",
    "        # input_batch : [batch_size, n_step, n_class]\n",
    "        output = model(hidden, input_batch)\n",
    "\n",
    "        # output : [batch_size, n_class], target_batch : [batch_size] (LongTensor, not one-hot)\n",
    "        loss = criterion(output, target_batch)\n",
    "        if (epoch + 1) % 1000 == 0:\n",
    "            print('Epoch:', '%04d' % (epoch + 1), 'cost =', '{:.6f}'.format(loss))\n",
    "\n",
    "        loss.backward()\n",
    "        optimizer.step()\n",
    "\n",
    "    input = [sen.split()[:2] for sen in sentences]\n",
    "\n",
    "    # Predict\n",
    "    hidden = torch.zeros(1, batch_size, n_hidden)\n",
    "    predict = model(hidden, input_batch).data.max(1, keepdim=True)[1]\n",
    "    print([sen.split()[:2] for sen in sentences], '->', [number_dict[n.item()] for n in predict.squeeze()])"
   ],
   "metadata": {
    "collapsed": false
   }
  }
 ],
 "metadata": {
  "anaconda-cloud": {},
  "kernelspec": {
   "display_name": "Python 3",
   "language": "python",
   "name": "python3"
  },
  "language_info": {
   "codemirror_mode": {
    "name": "ipython",
    "version": 3
   },
   "file_extension": ".py",
   "mimetype": "text/x-python",
   "name": "python",
   "nbconvert_exporter": "python",
   "pygments_lexer": "ipython3",
   "version": "3.6.1"
  }
 },
 "nbformat": 4,
 "nbformat_minor": 4
}
